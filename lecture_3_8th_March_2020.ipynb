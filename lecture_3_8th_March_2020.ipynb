{
  "nbformat": 4,
  "nbformat_minor": 0,
  "metadata": {
    "colab": {
      "name": "lecture 3 8th March 2020.ipynb",
      "provenance": [],
      "collapsed_sections": [],
      "include_colab_link": true
    },
    "kernelspec": {
      "name": "python3",
      "display_name": "Python 3"
    },
    "accelerator": "GPU"
  },
  "cells": [
    {
      "cell_type": "markdown",
      "metadata": {
        "id": "view-in-github",
        "colab_type": "text"
      },
      "source": [
        "<a href=\"https://colab.research.google.com/github/preranaramteke/board-infinity-homework/blob/master/lecture_3_8th_March_2020.ipynb\" target=\"_parent\"><img src=\"https://colab.research.google.com/assets/colab-badge.svg\" alt=\"Open In Colab\"/></a>"
      ]
    },
    {
      "cell_type": "markdown",
      "metadata": {
        "id": "bc_op7ItwUWA",
        "colab_type": "text"
      },
      "source": [
        "Topics Covered\n",
        "\n",
        "1. Numpy arrays\n",
        "2. pandas (fundamentals and stats\n",
        "3. graphs using python "
      ]
    },
    {
      "cell_type": "code",
      "metadata": {
        "id": "aCSbSVj6ysgH",
        "colab_type": "code",
        "outputId": "93754346-9410-4619-e5d5-faf5aa456eee",
        "colab": {
          "base_uri": "https://localhost:8080/",
          "height": 34
        }
      },
      "source": [
        "pip install numpy"
      ],
      "execution_count": 0,
      "outputs": [
        {
          "output_type": "stream",
          "text": [
            "Requirement already satisfied: numpy in /usr/local/lib/python3.6/dist-packages (1.17.5)\n"
          ],
          "name": "stdout"
        }
      ]
    },
    {
      "cell_type": "code",
      "metadata": {
        "id": "kJoqe_OFy_D0",
        "colab_type": "code",
        "colab": {}
      },
      "source": [
        "#imorting numpy\n",
        "import numpy as np"
      ],
      "execution_count": 0,
      "outputs": []
    },
    {
      "cell_type": "code",
      "metadata": {
        "id": "5L1uDgIB4ZJo",
        "colab_type": "code",
        "outputId": "0e36680c-1e80-4296-f751-1b1f56595ded",
        "colab": {
          "base_uri": "https://localhost:8080/",
          "height": 34
        }
      },
      "source": [
        "np"
      ],
      "execution_count": 0,
      "outputs": [
        {
          "output_type": "execute_result",
          "data": {
            "text/plain": [
              "<module 'numpy' from '/usr/local/lib/python3.6/dist-packages/numpy/__init__.py'>"
            ]
          },
          "metadata": {
            "tags": []
          },
          "execution_count": 24
        }
      ]
    },
    {
      "cell_type": "code",
      "metadata": {
        "id": "RXbLbJDJ4egk",
        "colab_type": "code",
        "colab": {}
      },
      "source": [
        "lst = [1,2,3,4,5,6,7,8,9]"
      ],
      "execution_count": 0,
      "outputs": []
    },
    {
      "cell_type": "code",
      "metadata": {
        "id": "wwkAsPjp4xS0",
        "colab_type": "code",
        "outputId": "11b9cd0b-0ac9-4ab5-fca7-4cd28e7055d7",
        "colab": {
          "base_uri": "https://localhost:8080/",
          "height": 34
        }
      },
      "source": [
        "lst"
      ],
      "execution_count": 0,
      "outputs": [
        {
          "output_type": "execute_result",
          "data": {
            "text/plain": [
              "[1, 2, 3, 4, 5, 6, 7, 8, 9]"
            ]
          },
          "metadata": {
            "tags": []
          },
          "execution_count": 27
        }
      ]
    },
    {
      "cell_type": "code",
      "metadata": {
        "id": "7_C0O2KJ46bB",
        "colab_type": "code",
        "colab": {}
      },
      "source": [
        "lst = np.array(lst)"
      ],
      "execution_count": 0,
      "outputs": []
    },
    {
      "cell_type": "code",
      "metadata": {
        "id": "QhUBiVKm6aC_",
        "colab_type": "code",
        "outputId": "c47724dc-a1e9-46d2-b4de-9e7ed0996b54",
        "colab": {
          "base_uri": "https://localhost:8080/",
          "height": 34
        }
      },
      "source": [
        "type(lst)"
      ],
      "execution_count": 0,
      "outputs": [
        {
          "output_type": "execute_result",
          "data": {
            "text/plain": [
              "numpy.ndarray"
            ]
          },
          "metadata": {
            "tags": []
          },
          "execution_count": 30
        }
      ]
    },
    {
      "cell_type": "code",
      "metadata": {
        "id": "dhGtXiHi6fxt",
        "colab_type": "code",
        "outputId": "cea6b69b-95dd-45dd-8f73-197fec69da50",
        "colab": {
          "base_uri": "https://localhost:8080/",
          "height": 34
        }
      },
      "source": [
        "lst"
      ],
      "execution_count": 0,
      "outputs": [
        {
          "output_type": "execute_result",
          "data": {
            "text/plain": [
              "array([1, 2, 3, 4, 5, 6, 7, 8, 9])"
            ]
          },
          "metadata": {
            "tags": []
          },
          "execution_count": 31
        }
      ]
    },
    {
      "cell_type": "code",
      "metadata": {
        "id": "PY7GiF6W7EK9",
        "colab_type": "code",
        "outputId": "c5f288a3-8101-4dac-d3c7-64ee267fdce8",
        "colab": {
          "base_uri": "https://localhost:8080/",
          "height": 34
        }
      },
      "source": [
        "lst[1:3]"
      ],
      "execution_count": 0,
      "outputs": [
        {
          "output_type": "execute_result",
          "data": {
            "text/plain": [
              "array([2, 3])"
            ]
          },
          "metadata": {
            "tags": []
          },
          "execution_count": 32
        }
      ]
    },
    {
      "cell_type": "code",
      "metadata": {
        "id": "_aNpTxQf7HWb",
        "colab_type": "code",
        "colab": {}
      },
      "source": [
        "numbers = np.array([9,11,13,15])\n",
        "numbers"
      ],
      "execution_count": 0,
      "outputs": []
    },
    {
      "cell_type": "code",
      "metadata": {
        "id": "UbGpsUR77tlR",
        "colab_type": "code",
        "colab": {}
      },
      "source": [
        "numbers ** 2"
      ],
      "execution_count": 0,
      "outputs": []
    },
    {
      "cell_type": "markdown",
      "metadata": {
        "id": "1qWUYA778M7U",
        "colab_type": "text"
      },
      "source": [
        "1. make a numpy array with random numbers\n",
        "2. multiply it by 10\n",
        "3. divide by 2\n",
        "4. add 5 to the array\n",
        "5. print last value "
      ]
    },
    {
      "cell_type": "code",
      "metadata": {
        "id": "-e6eZovJ8JUN",
        "colab_type": "code",
        "colab": {}
      },
      "source": [
        "numbers = [25,27,29,31]"
      ],
      "execution_count": 0,
      "outputs": []
    },
    {
      "cell_type": "code",
      "metadata": {
        "id": "evctSK1c8mtg",
        "colab_type": "code",
        "colab": {}
      },
      "source": [
        "numbers = np.array(numbers)"
      ],
      "execution_count": 0,
      "outputs": []
    },
    {
      "cell_type": "code",
      "metadata": {
        "id": "kh08Dqhz9DHM",
        "colab_type": "code",
        "colab": {}
      },
      "source": [
        "numbers * 10"
      ],
      "execution_count": 0,
      "outputs": []
    },
    {
      "cell_type": "code",
      "metadata": {
        "id": "0x6jpniE9MZl",
        "colab_type": "code",
        "colab": {}
      },
      "source": [
        "numbers /2"
      ],
      "execution_count": 0,
      "outputs": []
    },
    {
      "cell_type": "code",
      "metadata": {
        "id": "LwFMLvAi9Xdl",
        "colab_type": "code",
        "colab": {}
      },
      "source": [
        " r = numbers + 5"
      ],
      "execution_count": 0,
      "outputs": []
    },
    {
      "cell_type": "code",
      "metadata": {
        "id": "U23M0M_H-iNe",
        "colab_type": "code",
        "colab": {}
      },
      "source": [
        "print (r)"
      ],
      "execution_count": 0,
      "outputs": []
    },
    {
      "cell_type": "code",
      "metadata": {
        "id": "VEv1YlAH9dyb",
        "colab_type": "code",
        "colab": {}
      },
      "source": [
        "r[-1]"
      ],
      "execution_count": 0,
      "outputs": []
    },
    {
      "cell_type": "code",
      "metadata": {
        "id": "ZzA4ZC9n93QG",
        "colab_type": "code",
        "colab": {}
      },
      "source": [
        "r[3]"
      ],
      "execution_count": 0,
      "outputs": []
    },
    {
      "cell_type": "code",
      "metadata": {
        "id": "0WhmAjZe-9B5",
        "colab_type": "code",
        "colab": {}
      },
      "source": [
        "#print numbers between 1-100\n",
        "numbers = np.arange(90, 90000)"
      ],
      "execution_count": 0,
      "outputs": []
    },
    {
      "cell_type": "code",
      "metadata": {
        "id": "qocBEYkNB4w8",
        "colab_type": "code",
        "colab": {}
      },
      "source": [
        "numbers"
      ],
      "execution_count": 0,
      "outputs": []
    },
    {
      "cell_type": "code",
      "metadata": {
        "id": "msQCA_rmB5wn",
        "colab_type": "code",
        "colab": {}
      },
      "source": [
        "numbers = numbers / 100"
      ],
      "execution_count": 0,
      "outputs": []
    },
    {
      "cell_type": "code",
      "metadata": {
        "id": "PO-khHxVB_d0",
        "colab_type": "code",
        "colab": {}
      },
      "source": [
        "numbers"
      ],
      "execution_count": 0,
      "outputs": []
    },
    {
      "cell_type": "code",
      "metadata": {
        "id": "m6nKdWTbCAjL",
        "colab_type": "code",
        "colab": {}
      },
      "source": [
        "np.arange(90, 900, 2)"
      ],
      "execution_count": 0,
      "outputs": []
    },
    {
      "cell_type": "code",
      "metadata": {
        "id": "vI8bWcpBDs_T",
        "colab_type": "code",
        "colab": {}
      },
      "source": [
        "#print the shape of your array\n",
        "\n",
        "numbers.shape"
      ],
      "execution_count": 0,
      "outputs": []
    },
    {
      "cell_type": "code",
      "metadata": {
        "id": "U_fqdyMBGT2v",
        "colab_type": "code",
        "colab": {}
      },
      "source": [
        "# creating multi-dimensional array\n",
        "\n",
        "\n",
        "r2=np.array([[1,2,3],[7,8,9]])\n",
        "r2.shape"
      ],
      "execution_count": 0,
      "outputs": []
    },
    {
      "cell_type": "code",
      "metadata": {
        "id": "GCthUdmUHFad",
        "colab_type": "code",
        "colab": {}
      },
      "source": [
        "r2=np.array([[7,6],[3,5],[8,7],[1,2],[6,5]])\n",
        "r2.shape"
      ],
      "execution_count": 0,
      "outputs": []
    },
    {
      "cell_type": "code",
      "metadata": {
        "id": "oLoozYi-JBie",
        "colab_type": "code",
        "colab": {}
      },
      "source": [
        "#reshaping existing array\n",
        "\n",
        "r2=np.arange(1,10001)"
      ],
      "execution_count": 0,
      "outputs": []
    },
    {
      "cell_type": "code",
      "metadata": {
        "id": "V63APoilLW2U",
        "colab_type": "code",
        "colab": {}
      },
      "source": [
        "r2.reshape(500,20)"
      ],
      "execution_count": 0,
      "outputs": []
    },
    {
      "cell_type": "code",
      "metadata": {
        "id": "l2qoP3AFhAjD",
        "colab_type": "code",
        "colab": {}
      },
      "source": [
        "pip install pandas"
      ],
      "execution_count": 0,
      "outputs": []
    },
    {
      "cell_type": "code",
      "metadata": {
        "id": "IAFwjXYyhC37",
        "colab_type": "code",
        "colab": {}
      },
      "source": [
        "pip install pandas as pd"
      ],
      "execution_count": 0,
      "outputs": []
    },
    {
      "cell_type": "code",
      "metadata": {
        "id": "Iv5Ojzw4iIvk",
        "colab_type": "code",
        "colab": {}
      },
      "source": [
        "import pandas as pd "
      ],
      "execution_count": 0,
      "outputs": []
    },
    {
      "cell_type": "code",
      "metadata": {
        "id": "6fzfArV9hTDf",
        "colab_type": "code",
        "colab": {}
      },
      "source": [
        "data = pd.read_csv(\"https://docs.google.com/spreadsheets/d/e/2PACX-1vRkBuDTd8RCydM72-uLD2nJh2fBEG7M1BpiY5P5qj2k1LhLISYTaBBgOGyMbpr2vVUGBUDy_iTfS0sZ/pub?output=csv\")"
      ],
      "execution_count": 0,
      "outputs": []
    },
    {
      "cell_type": "code",
      "metadata": {
        "id": "z_GBQG-5hhGC",
        "colab_type": "code",
        "outputId": "4f5cd072-8fff-47e9-ad99-98bd23047559",
        "colab": {
          "base_uri": "https://localhost:8080/",
          "height": 538
        }
      },
      "source": [
        "data"
      ],
      "execution_count": 0,
      "outputs": [
        {
          "output_type": "execute_result",
          "data": {
            "text/html": [
              "<div>\n",
              "<style scoped>\n",
              "    .dataframe tbody tr th:only-of-type {\n",
              "        vertical-align: middle;\n",
              "    }\n",
              "\n",
              "    .dataframe tbody tr th {\n",
              "        vertical-align: top;\n",
              "    }\n",
              "\n",
              "    .dataframe thead th {\n",
              "        text-align: right;\n",
              "    }\n",
              "</style>\n",
              "<table border=\"1\" class=\"dataframe\">\n",
              "  <thead>\n",
              "    <tr style=\"text-align: right;\">\n",
              "      <th></th>\n",
              "      <th>ID</th>\n",
              "      <th>Agency</th>\n",
              "      <th>Agency Type</th>\n",
              "      <th>Distribution Channel</th>\n",
              "      <th>Product Name</th>\n",
              "      <th>Duration</th>\n",
              "      <th>Destination</th>\n",
              "      <th>Net Sales</th>\n",
              "      <th>Commision (in value)</th>\n",
              "      <th>Age</th>\n",
              "      <th>Claim</th>\n",
              "    </tr>\n",
              "  </thead>\n",
              "  <tbody>\n",
              "    <tr>\n",
              "      <th>0</th>\n",
              "      <td>2010</td>\n",
              "      <td>EPX</td>\n",
              "      <td>Travel Agency</td>\n",
              "      <td>Online</td>\n",
              "      <td>Cancellation Plan</td>\n",
              "      <td>61</td>\n",
              "      <td>PHILIPPINES</td>\n",
              "      <td>12.000000</td>\n",
              "      <td>0.0000</td>\n",
              "      <td>41</td>\n",
              "      <td>0</td>\n",
              "    </tr>\n",
              "    <tr>\n",
              "      <th>1</th>\n",
              "      <td>4245</td>\n",
              "      <td>EPX</td>\n",
              "      <td>Travel Agency</td>\n",
              "      <td>Online</td>\n",
              "      <td>Cancellation Plan</td>\n",
              "      <td>4</td>\n",
              "      <td>MALAYSIA</td>\n",
              "      <td>17.000000</td>\n",
              "      <td>0.0000</td>\n",
              "      <td>35</td>\n",
              "      <td>0</td>\n",
              "    </tr>\n",
              "    <tr>\n",
              "      <th>2</th>\n",
              "      <td>9251</td>\n",
              "      <td>CWT</td>\n",
              "      <td>Travel Agency</td>\n",
              "      <td>Online</td>\n",
              "      <td>Rental Vehicle Excess Insurance</td>\n",
              "      <td>26</td>\n",
              "      <td>THAILAND</td>\n",
              "      <td>19.800000</td>\n",
              "      <td>11.8800</td>\n",
              "      <td>47</td>\n",
              "      <td>0</td>\n",
              "    </tr>\n",
              "    <tr>\n",
              "      <th>3</th>\n",
              "      <td>4754</td>\n",
              "      <td>EPX</td>\n",
              "      <td>Travel Agency</td>\n",
              "      <td>Online</td>\n",
              "      <td>2 way Comprehensive Plan</td>\n",
              "      <td>15</td>\n",
              "      <td>HONG KONG</td>\n",
              "      <td>27.000000</td>\n",
              "      <td>0.0000</td>\n",
              "      <td>48</td>\n",
              "      <td>0</td>\n",
              "    </tr>\n",
              "    <tr>\n",
              "      <th>4</th>\n",
              "      <td>8840</td>\n",
              "      <td>EPX</td>\n",
              "      <td>Travel Agency</td>\n",
              "      <td>Online</td>\n",
              "      <td>2 way Comprehensive Plan</td>\n",
              "      <td>15</td>\n",
              "      <td>MALAYSIA</td>\n",
              "      <td>37.000000</td>\n",
              "      <td>0.0000</td>\n",
              "      <td>36</td>\n",
              "      <td>0</td>\n",
              "    </tr>\n",
              "    <tr>\n",
              "      <th>...</th>\n",
              "      <td>...</td>\n",
              "      <td>...</td>\n",
              "      <td>...</td>\n",
              "      <td>...</td>\n",
              "      <td>...</td>\n",
              "      <td>...</td>\n",
              "      <td>...</td>\n",
              "      <td>...</td>\n",
              "      <td>...</td>\n",
              "      <td>...</td>\n",
              "      <td>...</td>\n",
              "    </tr>\n",
              "    <tr>\n",
              "      <th>52305</th>\n",
              "      <td>5370</td>\n",
              "      <td>C2B</td>\n",
              "      <td>Airlines</td>\n",
              "      <td>Online</td>\n",
              "      <td>Annual Gold Plan</td>\n",
              "      <td>365</td>\n",
              "      <td>SINGAPORE</td>\n",
              "      <td>444.750593</td>\n",
              "      <td>111.1858</td>\n",
              "      <td>40</td>\n",
              "      <td>1</td>\n",
              "    </tr>\n",
              "    <tr>\n",
              "      <th>52306</th>\n",
              "      <td>5282</td>\n",
              "      <td>RAB</td>\n",
              "      <td>Airlines</td>\n",
              "      <td>Online</td>\n",
              "      <td>Value Plan</td>\n",
              "      <td>8</td>\n",
              "      <td>BRUNEI DARUSSALAM</td>\n",
              "      <td>23.000000</td>\n",
              "      <td>9.2000</td>\n",
              "      <td>54</td>\n",
              "      <td>0</td>\n",
              "    </tr>\n",
              "    <tr>\n",
              "      <th>52307</th>\n",
              "      <td>7083</td>\n",
              "      <td>C2B</td>\n",
              "      <td>Airlines</td>\n",
              "      <td>Online</td>\n",
              "      <td>Bronze Plan</td>\n",
              "      <td>38</td>\n",
              "      <td>SINGAPORE</td>\n",
              "      <td>61.100000</td>\n",
              "      <td>15.2800</td>\n",
              "      <td>37</td>\n",
              "      <td>0</td>\n",
              "    </tr>\n",
              "    <tr>\n",
              "      <th>52308</th>\n",
              "      <td>8523</td>\n",
              "      <td>EPX</td>\n",
              "      <td>Travel Agency</td>\n",
              "      <td>Online</td>\n",
              "      <td>Cancellation Plan</td>\n",
              "      <td>2</td>\n",
              "      <td>THAILAND</td>\n",
              "      <td>10.000000</td>\n",
              "      <td>0.0000</td>\n",
              "      <td>46</td>\n",
              "      <td>0</td>\n",
              "    </tr>\n",
              "    <tr>\n",
              "      <th>52309</th>\n",
              "      <td>4791</td>\n",
              "      <td>C2B</td>\n",
              "      <td>Airlines</td>\n",
              "      <td>Online</td>\n",
              "      <td>Annual Silver Plan</td>\n",
              "      <td>414</td>\n",
              "      <td>SINGAPORE</td>\n",
              "      <td>216.000000</td>\n",
              "      <td>54.0000</td>\n",
              "      <td>41</td>\n",
              "      <td>0</td>\n",
              "    </tr>\n",
              "  </tbody>\n",
              "</table>\n",
              "<p>52310 rows × 11 columns</p>\n",
              "</div>"
            ],
            "text/plain": [
              "         ID Agency    Agency Type  ... Commision (in value) Age  Claim\n",
              "0      2010    EPX  Travel Agency  ...               0.0000  41      0\n",
              "1      4245    EPX  Travel Agency  ...               0.0000  35      0\n",
              "2      9251    CWT  Travel Agency  ...              11.8800  47      0\n",
              "3      4754    EPX  Travel Agency  ...               0.0000  48      0\n",
              "4      8840    EPX  Travel Agency  ...               0.0000  36      0\n",
              "...     ...    ...            ...  ...                  ...  ..    ...\n",
              "52305  5370    C2B       Airlines  ...             111.1858  40      1\n",
              "52306  5282    RAB       Airlines  ...               9.2000  54      0\n",
              "52307  7083    C2B       Airlines  ...              15.2800  37      0\n",
              "52308  8523    EPX  Travel Agency  ...               0.0000  46      0\n",
              "52309  4791    C2B       Airlines  ...              54.0000  41      0\n",
              "\n",
              "[52310 rows x 11 columns]"
            ]
          },
          "metadata": {
            "tags": []
          },
          "execution_count": 9
        }
      ]
    },
    {
      "cell_type": "code",
      "metadata": {
        "id": "i7JpVlGfiQCt",
        "colab_type": "code",
        "outputId": "bc59981a-2e72-4484-efe7-9268092baa04",
        "colab": {
          "base_uri": "https://localhost:8080/",
          "height": 204
        }
      },
      "source": [
        "data.head()"
      ],
      "execution_count": 0,
      "outputs": [
        {
          "output_type": "execute_result",
          "data": {
            "text/html": [
              "<div>\n",
              "<style scoped>\n",
              "    .dataframe tbody tr th:only-of-type {\n",
              "        vertical-align: middle;\n",
              "    }\n",
              "\n",
              "    .dataframe tbody tr th {\n",
              "        vertical-align: top;\n",
              "    }\n",
              "\n",
              "    .dataframe thead th {\n",
              "        text-align: right;\n",
              "    }\n",
              "</style>\n",
              "<table border=\"1\" class=\"dataframe\">\n",
              "  <thead>\n",
              "    <tr style=\"text-align: right;\">\n",
              "      <th></th>\n",
              "      <th>ID</th>\n",
              "      <th>Agency</th>\n",
              "      <th>Agency Type</th>\n",
              "      <th>Distribution Channel</th>\n",
              "      <th>Product Name</th>\n",
              "      <th>Duration</th>\n",
              "      <th>Destination</th>\n",
              "      <th>Net Sales</th>\n",
              "      <th>Commision (in value)</th>\n",
              "      <th>Age</th>\n",
              "      <th>Claim</th>\n",
              "    </tr>\n",
              "  </thead>\n",
              "  <tbody>\n",
              "    <tr>\n",
              "      <th>0</th>\n",
              "      <td>2010</td>\n",
              "      <td>EPX</td>\n",
              "      <td>Travel Agency</td>\n",
              "      <td>Online</td>\n",
              "      <td>Cancellation Plan</td>\n",
              "      <td>61</td>\n",
              "      <td>PHILIPPINES</td>\n",
              "      <td>12.0</td>\n",
              "      <td>0.00</td>\n",
              "      <td>41</td>\n",
              "      <td>0</td>\n",
              "    </tr>\n",
              "    <tr>\n",
              "      <th>1</th>\n",
              "      <td>4245</td>\n",
              "      <td>EPX</td>\n",
              "      <td>Travel Agency</td>\n",
              "      <td>Online</td>\n",
              "      <td>Cancellation Plan</td>\n",
              "      <td>4</td>\n",
              "      <td>MALAYSIA</td>\n",
              "      <td>17.0</td>\n",
              "      <td>0.00</td>\n",
              "      <td>35</td>\n",
              "      <td>0</td>\n",
              "    </tr>\n",
              "    <tr>\n",
              "      <th>2</th>\n",
              "      <td>9251</td>\n",
              "      <td>CWT</td>\n",
              "      <td>Travel Agency</td>\n",
              "      <td>Online</td>\n",
              "      <td>Rental Vehicle Excess Insurance</td>\n",
              "      <td>26</td>\n",
              "      <td>THAILAND</td>\n",
              "      <td>19.8</td>\n",
              "      <td>11.88</td>\n",
              "      <td>47</td>\n",
              "      <td>0</td>\n",
              "    </tr>\n",
              "    <tr>\n",
              "      <th>3</th>\n",
              "      <td>4754</td>\n",
              "      <td>EPX</td>\n",
              "      <td>Travel Agency</td>\n",
              "      <td>Online</td>\n",
              "      <td>2 way Comprehensive Plan</td>\n",
              "      <td>15</td>\n",
              "      <td>HONG KONG</td>\n",
              "      <td>27.0</td>\n",
              "      <td>0.00</td>\n",
              "      <td>48</td>\n",
              "      <td>0</td>\n",
              "    </tr>\n",
              "    <tr>\n",
              "      <th>4</th>\n",
              "      <td>8840</td>\n",
              "      <td>EPX</td>\n",
              "      <td>Travel Agency</td>\n",
              "      <td>Online</td>\n",
              "      <td>2 way Comprehensive Plan</td>\n",
              "      <td>15</td>\n",
              "      <td>MALAYSIA</td>\n",
              "      <td>37.0</td>\n",
              "      <td>0.00</td>\n",
              "      <td>36</td>\n",
              "      <td>0</td>\n",
              "    </tr>\n",
              "  </tbody>\n",
              "</table>\n",
              "</div>"
            ],
            "text/plain": [
              "     ID Agency    Agency Type  ... Commision (in value) Age  Claim\n",
              "0  2010    EPX  Travel Agency  ...                 0.00  41      0\n",
              "1  4245    EPX  Travel Agency  ...                 0.00  35      0\n",
              "2  9251    CWT  Travel Agency  ...                11.88  47      0\n",
              "3  4754    EPX  Travel Agency  ...                 0.00  48      0\n",
              "4  8840    EPX  Travel Agency  ...                 0.00  36      0\n",
              "\n",
              "[5 rows x 11 columns]"
            ]
          },
          "metadata": {
            "tags": []
          },
          "execution_count": 10
        }
      ]
    },
    {
      "cell_type": "code",
      "metadata": {
        "id": "ubE_jWQUlDlQ",
        "colab_type": "code",
        "outputId": "eb825edf-9358-426a-a88d-184445c2cfb6",
        "colab": {
          "base_uri": "https://localhost:8080/",
          "height": 85
        }
      },
      "source": [
        "data.columns"
      ],
      "execution_count": 0,
      "outputs": [
        {
          "output_type": "execute_result",
          "data": {
            "text/plain": [
              "Index(['ID', 'Agency', 'Agency Type', 'Distribution Channel', 'Product Name',\n",
              "       'Duration', 'Destination', 'Net Sales', 'Commision (in value)', 'Age',\n",
              "       'Claim'],\n",
              "      dtype='object')"
            ]
          },
          "metadata": {
            "tags": []
          },
          "execution_count": 11
        }
      ]
    },
    {
      "cell_type": "code",
      "metadata": {
        "id": "vy-6liHejCb6",
        "colab_type": "code",
        "outputId": "f0b141fe-b1df-4ee6-9296-de13e767e694",
        "colab": {
          "base_uri": "https://localhost:8080/",
          "height": 204
        }
      },
      "source": [
        "sorted(data.columns)"
      ],
      "execution_count": 0,
      "outputs": [
        {
          "output_type": "execute_result",
          "data": {
            "text/plain": [
              "['Age',\n",
              " 'Agency',\n",
              " 'Agency Type',\n",
              " 'Claim',\n",
              " 'Commision (in value)',\n",
              " 'Destination',\n",
              " 'Distribution Channel',\n",
              " 'Duration',\n",
              " 'ID',\n",
              " 'Net Sales',\n",
              " 'Product Name']"
            ]
          },
          "metadata": {
            "tags": []
          },
          "execution_count": 12
        }
      ]
    },
    {
      "cell_type": "code",
      "metadata": {
        "id": "MA3ztnFAkcI7",
        "colab_type": "code",
        "colab": {}
      },
      "source": [
        "# add 1 column to the dataframe called age2 whiich is age x 2\n",
        "\n",
        "data['age2'] = data['Age'] * 2"
      ],
      "execution_count": 0,
      "outputs": []
    },
    {
      "cell_type": "code",
      "metadata": {
        "id": "nclnfO7wmPKR",
        "colab_type": "code",
        "colab": {}
      },
      "source": [
        "data['age3'] = data['Age'] / 2"
      ],
      "execution_count": 0,
      "outputs": []
    },
    {
      "cell_type": "code",
      "metadata": {
        "id": "ySm7Ittamp8r",
        "colab_type": "code",
        "outputId": "430b0e43-57c2-4feb-d977-335ba7ba7845",
        "colab": {
          "base_uri": "https://localhost:8080/",
          "height": 255
        }
      },
      "source": [
        "data.head"
      ],
      "execution_count": 0,
      "outputs": [
        {
          "output_type": "execute_result",
          "data": {
            "text/plain": [
              "<bound method NDFrame.head of          ID Agency    Agency Type Distribution Channel  ... Age  Claim age2  age3\n",
              "0      2010    EPX  Travel Agency               Online  ...  41      0   82  20.5\n",
              "1      4245    EPX  Travel Agency               Online  ...  35      0   70  17.5\n",
              "2      9251    CWT  Travel Agency               Online  ...  47      0   94  23.5\n",
              "3      4754    EPX  Travel Agency               Online  ...  48      0   96  24.0\n",
              "4      8840    EPX  Travel Agency               Online  ...  36      0   72  18.0\n",
              "...     ...    ...            ...                  ...  ...  ..    ...  ...   ...\n",
              "52305  5370    C2B       Airlines               Online  ...  40      1   80  20.0\n",
              "52306  5282    RAB       Airlines               Online  ...  54      0  108  27.0\n",
              "52307  7083    C2B       Airlines               Online  ...  37      0   74  18.5\n",
              "52308  8523    EPX  Travel Agency               Online  ...  46      0   92  23.0\n",
              "52309  4791    C2B       Airlines               Online  ...  41      0   82  20.5\n",
              "\n",
              "[52310 rows x 13 columns]>"
            ]
          },
          "metadata": {
            "tags": []
          },
          "execution_count": 15
        }
      ]
    },
    {
      "cell_type": "markdown",
      "metadata": {
        "id": "T6QFbDEHnazd",
        "colab_type": "text"
      },
      "source": [
        "#print 5 rows of any 2 columns\n"
      ]
    },
    {
      "cell_type": "code",
      "metadata": {
        "id": "POF0RIMvmsP_",
        "colab_type": "code",
        "outputId": "e0c9249f-6bc9-4f2d-a3f2-1847e89ec3fe",
        "colab": {
          "base_uri": "https://localhost:8080/",
          "height": 204
        }
      },
      "source": [
        "data[['ID','Agency']].head()"
      ],
      "execution_count": 0,
      "outputs": [
        {
          "output_type": "execute_result",
          "data": {
            "text/html": [
              "<div>\n",
              "<style scoped>\n",
              "    .dataframe tbody tr th:only-of-type {\n",
              "        vertical-align: middle;\n",
              "    }\n",
              "\n",
              "    .dataframe tbody tr th {\n",
              "        vertical-align: top;\n",
              "    }\n",
              "\n",
              "    .dataframe thead th {\n",
              "        text-align: right;\n",
              "    }\n",
              "</style>\n",
              "<table border=\"1\" class=\"dataframe\">\n",
              "  <thead>\n",
              "    <tr style=\"text-align: right;\">\n",
              "      <th></th>\n",
              "      <th>ID</th>\n",
              "      <th>Agency</th>\n",
              "    </tr>\n",
              "  </thead>\n",
              "  <tbody>\n",
              "    <tr>\n",
              "      <th>0</th>\n",
              "      <td>2010</td>\n",
              "      <td>EPX</td>\n",
              "    </tr>\n",
              "    <tr>\n",
              "      <th>1</th>\n",
              "      <td>4245</td>\n",
              "      <td>EPX</td>\n",
              "    </tr>\n",
              "    <tr>\n",
              "      <th>2</th>\n",
              "      <td>9251</td>\n",
              "      <td>CWT</td>\n",
              "    </tr>\n",
              "    <tr>\n",
              "      <th>3</th>\n",
              "      <td>4754</td>\n",
              "      <td>EPX</td>\n",
              "    </tr>\n",
              "    <tr>\n",
              "      <th>4</th>\n",
              "      <td>8840</td>\n",
              "      <td>EPX</td>\n",
              "    </tr>\n",
              "  </tbody>\n",
              "</table>\n",
              "</div>"
            ],
            "text/plain": [
              "     ID Agency\n",
              "0  2010    EPX\n",
              "1  4245    EPX\n",
              "2  9251    CWT\n",
              "3  4754    EPX\n",
              "4  8840    EPX"
            ]
          },
          "metadata": {
            "tags": []
          },
          "execution_count": 16
        }
      ]
    },
    {
      "cell_type": "code",
      "metadata": {
        "id": "eYKzyErRnThh",
        "colab_type": "code",
        "colab": {}
      },
      "source": [
        "# select any 3 columns and print first 15 rows"
      ],
      "execution_count": 0,
      "outputs": []
    },
    {
      "cell_type": "code",
      "metadata": {
        "id": "FtMeMDtQodCP",
        "colab_type": "code",
        "outputId": "d80f263e-f096-489d-d280-8d64ec2a9eb7",
        "colab": {
          "base_uri": "https://localhost:8080/",
          "height": 514
        }
      },
      "source": [
        "data[['Duration', 'Destination', 'Net Sales']].head(15)"
      ],
      "execution_count": 0,
      "outputs": [
        {
          "output_type": "execute_result",
          "data": {
            "text/html": [
              "<div>\n",
              "<style scoped>\n",
              "    .dataframe tbody tr th:only-of-type {\n",
              "        vertical-align: middle;\n",
              "    }\n",
              "\n",
              "    .dataframe tbody tr th {\n",
              "        vertical-align: top;\n",
              "    }\n",
              "\n",
              "    .dataframe thead th {\n",
              "        text-align: right;\n",
              "    }\n",
              "</style>\n",
              "<table border=\"1\" class=\"dataframe\">\n",
              "  <thead>\n",
              "    <tr style=\"text-align: right;\">\n",
              "      <th></th>\n",
              "      <th>Duration</th>\n",
              "      <th>Destination</th>\n",
              "      <th>Net Sales</th>\n",
              "    </tr>\n",
              "  </thead>\n",
              "  <tbody>\n",
              "    <tr>\n",
              "      <th>0</th>\n",
              "      <td>61</td>\n",
              "      <td>PHILIPPINES</td>\n",
              "      <td>12.000000</td>\n",
              "    </tr>\n",
              "    <tr>\n",
              "      <th>1</th>\n",
              "      <td>4</td>\n",
              "      <td>MALAYSIA</td>\n",
              "      <td>17.000000</td>\n",
              "    </tr>\n",
              "    <tr>\n",
              "      <th>2</th>\n",
              "      <td>26</td>\n",
              "      <td>THAILAND</td>\n",
              "      <td>19.800000</td>\n",
              "    </tr>\n",
              "    <tr>\n",
              "      <th>3</th>\n",
              "      <td>15</td>\n",
              "      <td>HONG KONG</td>\n",
              "      <td>27.000000</td>\n",
              "    </tr>\n",
              "    <tr>\n",
              "      <th>4</th>\n",
              "      <td>15</td>\n",
              "      <td>MALAYSIA</td>\n",
              "      <td>37.000000</td>\n",
              "    </tr>\n",
              "    <tr>\n",
              "      <th>5</th>\n",
              "      <td>4</td>\n",
              "      <td>THAILAND</td>\n",
              "      <td>25.000000</td>\n",
              "    </tr>\n",
              "    <tr>\n",
              "      <th>6</th>\n",
              "      <td>215</td>\n",
              "      <td>UNITED KINGDOM</td>\n",
              "      <td>59.000000</td>\n",
              "    </tr>\n",
              "    <tr>\n",
              "      <th>7</th>\n",
              "      <td>31</td>\n",
              "      <td>VIET NAM</td>\n",
              "      <td>22.000000</td>\n",
              "    </tr>\n",
              "    <tr>\n",
              "      <th>8</th>\n",
              "      <td>13</td>\n",
              "      <td>CHINA</td>\n",
              "      <td>48.662699</td>\n",
              "    </tr>\n",
              "    <tr>\n",
              "      <th>9</th>\n",
              "      <td>10</td>\n",
              "      <td>SINGAPORE</td>\n",
              "      <td>23.258824</td>\n",
              "    </tr>\n",
              "    <tr>\n",
              "      <th>10</th>\n",
              "      <td>83</td>\n",
              "      <td>CHINA</td>\n",
              "      <td>66.823793</td>\n",
              "    </tr>\n",
              "    <tr>\n",
              "      <th>11</th>\n",
              "      <td>22</td>\n",
              "      <td>SINGAPORE</td>\n",
              "      <td>82.550000</td>\n",
              "    </tr>\n",
              "    <tr>\n",
              "      <th>12</th>\n",
              "      <td>48</td>\n",
              "      <td>MALAYSIA</td>\n",
              "      <td>39.600000</td>\n",
              "    </tr>\n",
              "    <tr>\n",
              "      <th>13</th>\n",
              "      <td>24</td>\n",
              "      <td>SINGAPORE</td>\n",
              "      <td>27.000000</td>\n",
              "    </tr>\n",
              "    <tr>\n",
              "      <th>14</th>\n",
              "      <td>17</td>\n",
              "      <td>SINGAPORE</td>\n",
              "      <td>58.211644</td>\n",
              "    </tr>\n",
              "  </tbody>\n",
              "</table>\n",
              "</div>"
            ],
            "text/plain": [
              "    Duration     Destination  Net Sales\n",
              "0         61     PHILIPPINES  12.000000\n",
              "1          4        MALAYSIA  17.000000\n",
              "2         26        THAILAND  19.800000\n",
              "3         15       HONG KONG  27.000000\n",
              "4         15        MALAYSIA  37.000000\n",
              "5          4        THAILAND  25.000000\n",
              "6        215  UNITED KINGDOM  59.000000\n",
              "7         31        VIET NAM  22.000000\n",
              "8         13           CHINA  48.662699\n",
              "9         10       SINGAPORE  23.258824\n",
              "10        83           CHINA  66.823793\n",
              "11        22       SINGAPORE  82.550000\n",
              "12        48        MALAYSIA  39.600000\n",
              "13        24       SINGAPORE  27.000000\n",
              "14        17       SINGAPORE  58.211644"
            ]
          },
          "metadata": {
            "tags": []
          },
          "execution_count": 17
        }
      ]
    },
    {
      "cell_type": "markdown",
      "metadata": {
        "id": "OgJ0jSZZpcUu",
        "colab_type": "text"
      },
      "source": [
        "How many customers have bought insurance online vs offline \n"
      ]
    },
    {
      "cell_type": "code",
      "metadata": {
        "id": "di7IB77eolpd",
        "colab_type": "code",
        "outputId": "39f25f1c-9a22-4e61-f84e-0065d47f6e89",
        "colab": {
          "base_uri": "https://localhost:8080/",
          "height": 68
        }
      },
      "source": [
        "data['Distribution Channel'].value_counts()"
      ],
      "execution_count": 0,
      "outputs": [
        {
          "output_type": "execute_result",
          "data": {
            "text/plain": [
              "Online     51419\n",
              "Offline      891\n",
              "Name: Distribution Channel, dtype: int64"
            ]
          },
          "metadata": {
            "tags": []
          },
          "execution_count": 21
        }
      ]
    },
    {
      "cell_type": "markdown",
      "metadata": {
        "id": "F1qWfEpOqIdw",
        "colab_type": "text"
      },
      "source": [
        "Print unique number of countries"
      ]
    },
    {
      "cell_type": "code",
      "metadata": {
        "id": "_wbQ5yP7p_cO",
        "colab_type": "code",
        "outputId": "797ef8b2-4d5c-4b2a-b2d2-05ae275accd7",
        "colab": {
          "base_uri": "https://localhost:8080/",
          "height": 221
        }
      },
      "source": [
        "data['Destination'].value_counts()"
      ],
      "execution_count": 0,
      "outputs": [
        {
          "output_type": "execute_result",
          "data": {
            "text/plain": [
              "SINGAPORE       14242\n",
              "THAILAND         4562\n",
              "MALAYSIA         4359\n",
              "CHINA            3909\n",
              "AUSTRALIA        3011\n",
              "                ...  \n",
              "BERMUDA             2\n",
              "BELARUS             2\n",
              "BHUTAN              2\n",
              "TURKMENISTAN        1\n",
              "ZAMBIA              1\n",
              "Name: Destination, Length: 97, dtype: int64"
            ]
          },
          "metadata": {
            "tags": []
          },
          "execution_count": 19
        }
      ]
    },
    {
      "cell_type": "markdown",
      "metadata": {
        "id": "pkSwaDfirVFd",
        "colab_type": "text"
      },
      "source": [
        "Print destination and claims (value count)"
      ]
    },
    {
      "cell_type": "code",
      "metadata": {
        "id": "oO8sYJd5r086",
        "colab_type": "code",
        "outputId": "0918f688-bfb7-4af1-b214-9d11ff77aa72",
        "colab": {
          "base_uri": "https://localhost:8080/",
          "height": 450
        }
      },
      "source": [
        "data.groupby(['Destination']).agg({'Claim' : np.sum})"
      ],
      "execution_count": 0,
      "outputs": [
        {
          "output_type": "execute_result",
          "data": {
            "text/html": [
              "<div>\n",
              "<style scoped>\n",
              "    .dataframe tbody tr th:only-of-type {\n",
              "        vertical-align: middle;\n",
              "    }\n",
              "\n",
              "    .dataframe tbody tr th {\n",
              "        vertical-align: top;\n",
              "    }\n",
              "\n",
              "    .dataframe thead th {\n",
              "        text-align: right;\n",
              "    }\n",
              "</style>\n",
              "<table border=\"1\" class=\"dataframe\">\n",
              "  <thead>\n",
              "    <tr style=\"text-align: right;\">\n",
              "      <th></th>\n",
              "      <th>Claim</th>\n",
              "    </tr>\n",
              "    <tr>\n",
              "      <th>Destination</th>\n",
              "      <th></th>\n",
              "    </tr>\n",
              "  </thead>\n",
              "  <tbody>\n",
              "    <tr>\n",
              "      <th>ARGENTINA</th>\n",
              "      <td>1</td>\n",
              "    </tr>\n",
              "    <tr>\n",
              "      <th>AUSTRALIA</th>\n",
              "      <td>455</td>\n",
              "    </tr>\n",
              "    <tr>\n",
              "      <th>AUSTRIA</th>\n",
              "      <td>0</td>\n",
              "    </tr>\n",
              "    <tr>\n",
              "      <th>AZERBAIJAN</th>\n",
              "      <td>0</td>\n",
              "    </tr>\n",
              "    <tr>\n",
              "      <th>BAHRAIN</th>\n",
              "      <td>0</td>\n",
              "    </tr>\n",
              "    <tr>\n",
              "      <th>...</th>\n",
              "      <td>...</td>\n",
              "    </tr>\n",
              "    <tr>\n",
              "      <th>UZBEKISTAN</th>\n",
              "      <td>0</td>\n",
              "    </tr>\n",
              "    <tr>\n",
              "      <th>VANUATU</th>\n",
              "      <td>0</td>\n",
              "    </tr>\n",
              "    <tr>\n",
              "      <th>VENEZUELA</th>\n",
              "      <td>0</td>\n",
              "    </tr>\n",
              "    <tr>\n",
              "      <th>VIET NAM</th>\n",
              "      <td>88</td>\n",
              "    </tr>\n",
              "    <tr>\n",
              "      <th>ZAMBIA</th>\n",
              "      <td>0</td>\n",
              "    </tr>\n",
              "  </tbody>\n",
              "</table>\n",
              "<p>97 rows × 1 columns</p>\n",
              "</div>"
            ],
            "text/plain": [
              "             Claim\n",
              "Destination       \n",
              "ARGENTINA        1\n",
              "AUSTRALIA      455\n",
              "AUSTRIA          0\n",
              "AZERBAIJAN       0\n",
              "BAHRAIN          0\n",
              "...            ...\n",
              "UZBEKISTAN       0\n",
              "VANUATU          0\n",
              "VENEZUELA        0\n",
              "VIET NAM        88\n",
              "ZAMBIA           0\n",
              "\n",
              "[97 rows x 1 columns]"
            ]
          },
          "metadata": {
            "tags": []
          },
          "execution_count": 34
        }
      ]
    },
    {
      "cell_type": "code",
      "metadata": {
        "id": "LllaoPx05zvy",
        "colab_type": "code",
        "outputId": "a3369e2d-d7bd-4f59-d765-8d176c63e409",
        "colab": {
          "base_uri": "https://localhost:8080/",
          "height": 330
        }
      },
      "source": [
        "data[\"Destination\"].value_counts().head().plot(kind=\"bar\")"
      ],
      "execution_count": 0,
      "outputs": [
        {
          "output_type": "execute_result",
          "data": {
            "text/plain": [
              "<matplotlib.axes._subplots.AxesSubplot at 0x7f89e2011ac8>"
            ]
          },
          "metadata": {
            "tags": []
          },
          "execution_count": 37
        },
        {
          "output_type": "display_data",
          "data": {
            "image/png": "[encoded data removed]",
            "text/plain": [
              "<Figure size 432x288 with 1 Axes>"
            ]
          },
          "metadata": {
            "tags": []
          }
        }
      ]
    },
    {
      "cell_type": "code",
      "metadata": {
        "id": "6RMlBY9S--ky",
        "colab_type": "code",
        "outputId": "096068ce-8e11-45b4-c58e-a0f6786017bf",
        "colab": {
          "base_uri": "https://localhost:8080/",
          "height": 204
        }
      },
      "source": [
        "data[data['Agency Type'].isin(['Airlines'])].head()"
      ],
      "execution_count": 0,
      "outputs": [
        {
          "output_type": "execute_result",
          "data": {
            "text/html": [
              "<div>\n",
              "<style scoped>\n",
              "    .dataframe tbody tr th:only-of-type {\n",
              "        vertical-align: middle;\n",
              "    }\n",
              "\n",
              "    .dataframe tbody tr th {\n",
              "        vertical-align: top;\n",
              "    }\n",
              "\n",
              "    .dataframe thead th {\n",
              "        text-align: right;\n",
              "    }\n",
              "</style>\n",
              "<table border=\"1\" class=\"dataframe\">\n",
              "  <thead>\n",
              "    <tr style=\"text-align: right;\">\n",
              "      <th></th>\n",
              "      <th>ID</th>\n",
              "      <th>Agency</th>\n",
              "      <th>Agency Type</th>\n",
              "      <th>Distribution Channel</th>\n",
              "      <th>Product Name</th>\n",
              "      <th>Duration</th>\n",
              "      <th>Destination</th>\n",
              "      <th>Net Sales</th>\n",
              "      <th>Commision (in value)</th>\n",
              "      <th>Age</th>\n",
              "      <th>Claim</th>\n",
              "      <th>age2</th>\n",
              "      <th>age3</th>\n",
              "    </tr>\n",
              "  </thead>\n",
              "  <tbody>\n",
              "    <tr>\n",
              "      <th>7</th>\n",
              "      <td>8394</td>\n",
              "      <td>JZI</td>\n",
              "      <td>Airlines</td>\n",
              "      <td>Online</td>\n",
              "      <td>Basic Plan</td>\n",
              "      <td>31</td>\n",
              "      <td>VIET NAM</td>\n",
              "      <td>22.000000</td>\n",
              "      <td>7.700000</td>\n",
              "      <td>43</td>\n",
              "      <td>0</td>\n",
              "      <td>86</td>\n",
              "      <td>21.5</td>\n",
              "    </tr>\n",
              "    <tr>\n",
              "      <th>9</th>\n",
              "      <td>8054</td>\n",
              "      <td>C2B</td>\n",
              "      <td>Airlines</td>\n",
              "      <td>Online</td>\n",
              "      <td>Bronze Plan</td>\n",
              "      <td>10</td>\n",
              "      <td>SINGAPORE</td>\n",
              "      <td>23.258824</td>\n",
              "      <td>5.817294</td>\n",
              "      <td>28</td>\n",
              "      <td>1</td>\n",
              "      <td>56</td>\n",
              "      <td>14.0</td>\n",
              "    </tr>\n",
              "    <tr>\n",
              "      <th>11</th>\n",
              "      <td>8195</td>\n",
              "      <td>C2B</td>\n",
              "      <td>Airlines</td>\n",
              "      <td>Online</td>\n",
              "      <td>Silver Plan</td>\n",
              "      <td>22</td>\n",
              "      <td>SINGAPORE</td>\n",
              "      <td>82.550000</td>\n",
              "      <td>20.640000</td>\n",
              "      <td>31</td>\n",
              "      <td>1</td>\n",
              "      <td>62</td>\n",
              "      <td>15.5</td>\n",
              "    </tr>\n",
              "    <tr>\n",
              "      <th>14</th>\n",
              "      <td>2165</td>\n",
              "      <td>C2B</td>\n",
              "      <td>Airlines</td>\n",
              "      <td>Online</td>\n",
              "      <td>Bronze Plan</td>\n",
              "      <td>17</td>\n",
              "      <td>SINGAPORE</td>\n",
              "      <td>58.211644</td>\n",
              "      <td>14.552911</td>\n",
              "      <td>66</td>\n",
              "      <td>1</td>\n",
              "      <td>132</td>\n",
              "      <td>33.0</td>\n",
              "    </tr>\n",
              "    <tr>\n",
              "      <th>19</th>\n",
              "      <td>5232</td>\n",
              "      <td>C2B</td>\n",
              "      <td>Airlines</td>\n",
              "      <td>Online</td>\n",
              "      <td>Bronze Plan</td>\n",
              "      <td>36</td>\n",
              "      <td>SINGAPORE</td>\n",
              "      <td>47.000000</td>\n",
              "      <td>11.750000</td>\n",
              "      <td>25</td>\n",
              "      <td>0</td>\n",
              "      <td>50</td>\n",
              "      <td>12.5</td>\n",
              "    </tr>\n",
              "  </tbody>\n",
              "</table>\n",
              "</div>"
            ],
            "text/plain": [
              "      ID Agency Agency Type Distribution Channel  ... Age  Claim age2  age3\n",
              "7   8394    JZI    Airlines               Online  ...  43      0   86  21.5\n",
              "9   8054    C2B    Airlines               Online  ...  28      1   56  14.0\n",
              "11  8195    C2B    Airlines               Online  ...  31      1   62  15.5\n",
              "14  2165    C2B    Airlines               Online  ...  66      1  132  33.0\n",
              "19  5232    C2B    Airlines               Online  ...  25      0   50  12.5\n",
              "\n",
              "[5 rows x 13 columns]"
            ]
          },
          "metadata": {
            "tags": []
          },
          "execution_count": 38
        }
      ]
    },
    {
      "cell_type": "code",
      "metadata": {
        "id": "cHNACVhWAyGz",
        "colab_type": "code",
        "outputId": "76d28122-9977-48f9-d2a3-ba0fd14d66b8",
        "colab": {
          "base_uri": "https://localhost:8080/",
          "height": 289
        }
      },
      "source": [
        "data[data['Age'] >= 50].head()"
      ],
      "execution_count": 0,
      "outputs": [
        {
          "output_type": "execute_result",
          "data": {
            "text/html": [
              "<div>\n",
              "<style scoped>\n",
              "    .dataframe tbody tr th:only-of-type {\n",
              "        vertical-align: middle;\n",
              "    }\n",
              "\n",
              "    .dataframe tbody tr th {\n",
              "        vertical-align: top;\n",
              "    }\n",
              "\n",
              "    .dataframe thead th {\n",
              "        text-align: right;\n",
              "    }\n",
              "</style>\n",
              "<table border=\"1\" class=\"dataframe\">\n",
              "  <thead>\n",
              "    <tr style=\"text-align: right;\">\n",
              "      <th></th>\n",
              "      <th>ID</th>\n",
              "      <th>Agency</th>\n",
              "      <th>Agency Type</th>\n",
              "      <th>Distribution Channel</th>\n",
              "      <th>Product Name</th>\n",
              "      <th>Duration</th>\n",
              "      <th>Destination</th>\n",
              "      <th>Net Sales</th>\n",
              "      <th>Commision (in value)</th>\n",
              "      <th>Age</th>\n",
              "      <th>Claim</th>\n",
              "      <th>age2</th>\n",
              "      <th>age3</th>\n",
              "    </tr>\n",
              "  </thead>\n",
              "  <tbody>\n",
              "    <tr>\n",
              "      <th>14</th>\n",
              "      <td>2165</td>\n",
              "      <td>C2B</td>\n",
              "      <td>Airlines</td>\n",
              "      <td>Online</td>\n",
              "      <td>Bronze Plan</td>\n",
              "      <td>17</td>\n",
              "      <td>SINGAPORE</td>\n",
              "      <td>58.211644</td>\n",
              "      <td>14.552911</td>\n",
              "      <td>66</td>\n",
              "      <td>1</td>\n",
              "      <td>132</td>\n",
              "      <td>33.0</td>\n",
              "    </tr>\n",
              "    <tr>\n",
              "      <th>20</th>\n",
              "      <td>9597</td>\n",
              "      <td>EPX</td>\n",
              "      <td>Travel Agency</td>\n",
              "      <td>Online</td>\n",
              "      <td>2 way Comprehensive Plan</td>\n",
              "      <td>4</td>\n",
              "      <td>MALAYSIA</td>\n",
              "      <td>31.000000</td>\n",
              "      <td>0.000000</td>\n",
              "      <td>52</td>\n",
              "      <td>0</td>\n",
              "      <td>104</td>\n",
              "      <td>26.0</td>\n",
              "    </tr>\n",
              "    <tr>\n",
              "      <th>24</th>\n",
              "      <td>7018</td>\n",
              "      <td>RAB</td>\n",
              "      <td>Airlines</td>\n",
              "      <td>Online</td>\n",
              "      <td>Value Plan</td>\n",
              "      <td>6</td>\n",
              "      <td>BRUNEI DARUSSALAM</td>\n",
              "      <td>15.000000</td>\n",
              "      <td>6.000000</td>\n",
              "      <td>50</td>\n",
              "      <td>0</td>\n",
              "      <td>100</td>\n",
              "      <td>25.0</td>\n",
              "    </tr>\n",
              "    <tr>\n",
              "      <th>28</th>\n",
              "      <td>5747</td>\n",
              "      <td>EPX</td>\n",
              "      <td>Travel Agency</td>\n",
              "      <td>Online</td>\n",
              "      <td>2 way Comprehensive Plan</td>\n",
              "      <td>45</td>\n",
              "      <td>UNITED STATES</td>\n",
              "      <td>112.000000</td>\n",
              "      <td>0.000000</td>\n",
              "      <td>51</td>\n",
              "      <td>1</td>\n",
              "      <td>102</td>\n",
              "      <td>25.5</td>\n",
              "    </tr>\n",
              "    <tr>\n",
              "      <th>39</th>\n",
              "      <td>7349</td>\n",
              "      <td>TST</td>\n",
              "      <td>Travel Agency</td>\n",
              "      <td>Offline</td>\n",
              "      <td>Travel Cruise Protect</td>\n",
              "      <td>47</td>\n",
              "      <td>THAILAND</td>\n",
              "      <td>30.000000</td>\n",
              "      <td>10.500000</td>\n",
              "      <td>71</td>\n",
              "      <td>0</td>\n",
              "      <td>142</td>\n",
              "      <td>35.5</td>\n",
              "    </tr>\n",
              "  </tbody>\n",
              "</table>\n",
              "</div>"
            ],
            "text/plain": [
              "      ID Agency    Agency Type Distribution Channel  ... Age  Claim age2  age3\n",
              "14  2165    C2B       Airlines               Online  ...  66      1  132  33.0\n",
              "20  9597    EPX  Travel Agency               Online  ...  52      0  104  26.0\n",
              "24  7018    RAB       Airlines               Online  ...  50      0  100  25.0\n",
              "28  5747    EPX  Travel Agency               Online  ...  51      1  102  25.5\n",
              "39  7349    TST  Travel Agency              Offline  ...  71      0  142  35.5\n",
              "\n",
              "[5 rows x 13 columns]"
            ]
          },
          "metadata": {
            "tags": []
          },
          "execution_count": 39
        }
      ]
    },
    {
      "cell_type": "code",
      "metadata": {
        "id": "k8NZhTUqBjOV",
        "colab_type": "code",
        "outputId": "f88248e9-779b-4bc5-f339-813383e6a805",
        "colab": {
          "base_uri": "https://localhost:8080/",
          "height": 85
        }
      },
      "source": [
        "data[data['Age'].isin([25,35,45])]['Age'].value_counts()"
      ],
      "execution_count": 0,
      "outputs": [
        {
          "output_type": "execute_result",
          "data": {
            "text/plain": [
              "35    1985\n",
              "25     735\n",
              "45     712\n",
              "Name: Age, dtype: int64"
            ]
          },
          "metadata": {
            "tags": []
          },
          "execution_count": 40
        }
      ]
    },
    {
      "cell_type": "code",
      "metadata": {
        "id": "tllVzkCSCMm5",
        "colab_type": "code",
        "outputId": "86299be5-2f48-4cf4-a389-533b2147dea4",
        "colab": {
          "base_uri": "https://localhost:8080/",
          "height": 265
        }
      },
      "source": [
        "data[data['Age'].isin([25,35,45])]['Age'].value_counts().plot(kind='pie', legend=True)"
      ],
      "execution_count": 0,
      "outputs": [
        {
          "output_type": "execute_result",
          "data": {
            "text/plain": [
              "<matplotlib.axes._subplots.AxesSubplot at 0x7f89e1ae6d68>"
            ]
          },
          "metadata": {
            "tags": []
          },
          "execution_count": 42
        },
        {
          "output_type": "display_data",
          "data": {
            "image/png": "[encoded data removed]",
            "text/plain": [
              "<Figure size 432x288 with 1 Axes>"
            ]
          },
          "metadata": {
            "tags": []
          }
        }
      ]
    },
    {
      "cell_type": "code",
      "metadata": {
        "id": "bk7qV6bwC6un",
        "colab_type": "code",
        "outputId": "d15efb2c-f46e-4c09-8ff5-39a4948ad5bc",
        "colab": {
          "base_uri": "https://localhost:8080/",
          "height": 419
        }
      },
      "source": [
        "data[data['Destination'].isin([\"SINGAPORE\"]) & data[\"Claim\"].isin([1])]"
      ],
      "execution_count": 0,
      "outputs": [
        {
          "output_type": "execute_result",
          "data": {
            "text/html": [
              "<div>\n",
              "<style scoped>\n",
              "    .dataframe tbody tr th:only-of-type {\n",
              "        vertical-align: middle;\n",
              "    }\n",
              "\n",
              "    .dataframe tbody tr th {\n",
              "        vertical-align: top;\n",
              "    }\n",
              "\n",
              "    .dataframe thead th {\n",
              "        text-align: right;\n",
              "    }\n",
              "</style>\n",
              "<table border=\"1\" class=\"dataframe\">\n",
              "  <thead>\n",
              "    <tr style=\"text-align: right;\">\n",
              "      <th></th>\n",
              "      <th>ID</th>\n",
              "      <th>Agency</th>\n",
              "      <th>Agency Type</th>\n",
              "      <th>Distribution Channel</th>\n",
              "      <th>Product Name</th>\n",
              "      <th>Duration</th>\n",
              "      <th>Destination</th>\n",
              "      <th>Net Sales</th>\n",
              "      <th>Commision (in value)</th>\n",
              "      <th>Age</th>\n",
              "      <th>Claim</th>\n",
              "      <th>age2</th>\n",
              "      <th>age3</th>\n",
              "    </tr>\n",
              "  </thead>\n",
              "  <tbody>\n",
              "    <tr>\n",
              "      <th>9</th>\n",
              "      <td>8054</td>\n",
              "      <td>C2B</td>\n",
              "      <td>Airlines</td>\n",
              "      <td>Online</td>\n",
              "      <td>Bronze Plan</td>\n",
              "      <td>10</td>\n",
              "      <td>SINGAPORE</td>\n",
              "      <td>23.258824</td>\n",
              "      <td>5.817294</td>\n",
              "      <td>28</td>\n",
              "      <td>1</td>\n",
              "      <td>56</td>\n",
              "      <td>14.0</td>\n",
              "    </tr>\n",
              "    <tr>\n",
              "      <th>11</th>\n",
              "      <td>8195</td>\n",
              "      <td>C2B</td>\n",
              "      <td>Airlines</td>\n",
              "      <td>Online</td>\n",
              "      <td>Silver Plan</td>\n",
              "      <td>22</td>\n",
              "      <td>SINGAPORE</td>\n",
              "      <td>82.550000</td>\n",
              "      <td>20.640000</td>\n",
              "      <td>31</td>\n",
              "      <td>1</td>\n",
              "      <td>62</td>\n",
              "      <td>15.5</td>\n",
              "    </tr>\n",
              "    <tr>\n",
              "      <th>14</th>\n",
              "      <td>2165</td>\n",
              "      <td>C2B</td>\n",
              "      <td>Airlines</td>\n",
              "      <td>Online</td>\n",
              "      <td>Bronze Plan</td>\n",
              "      <td>17</td>\n",
              "      <td>SINGAPORE</td>\n",
              "      <td>58.211644</td>\n",
              "      <td>14.552911</td>\n",
              "      <td>66</td>\n",
              "      <td>1</td>\n",
              "      <td>132</td>\n",
              "      <td>33.0</td>\n",
              "    </tr>\n",
              "    <tr>\n",
              "      <th>61</th>\n",
              "      <td>5013</td>\n",
              "      <td>C2B</td>\n",
              "      <td>Airlines</td>\n",
              "      <td>Online</td>\n",
              "      <td>Silver Plan</td>\n",
              "      <td>148</td>\n",
              "      <td>SINGAPORE</td>\n",
              "      <td>245.856347</td>\n",
              "      <td>61.466101</td>\n",
              "      <td>50</td>\n",
              "      <td>1</td>\n",
              "      <td>100</td>\n",
              "      <td>25.0</td>\n",
              "    </tr>\n",
              "    <tr>\n",
              "      <th>65</th>\n",
              "      <td>4313</td>\n",
              "      <td>C2B</td>\n",
              "      <td>Airlines</td>\n",
              "      <td>Online</td>\n",
              "      <td>Annual Silver Plan</td>\n",
              "      <td>365</td>\n",
              "      <td>SINGAPORE</td>\n",
              "      <td>252.850000</td>\n",
              "      <td>63.210000</td>\n",
              "      <td>61</td>\n",
              "      <td>1</td>\n",
              "      <td>122</td>\n",
              "      <td>30.5</td>\n",
              "    </tr>\n",
              "    <tr>\n",
              "      <th>...</th>\n",
              "      <td>...</td>\n",
              "      <td>...</td>\n",
              "      <td>...</td>\n",
              "      <td>...</td>\n",
              "      <td>...</td>\n",
              "      <td>...</td>\n",
              "      <td>...</td>\n",
              "      <td>...</td>\n",
              "      <td>...</td>\n",
              "      <td>...</td>\n",
              "      <td>...</td>\n",
              "      <td>...</td>\n",
              "      <td>...</td>\n",
              "    </tr>\n",
              "    <tr>\n",
              "      <th>52269</th>\n",
              "      <td>8798</td>\n",
              "      <td>C2B</td>\n",
              "      <td>Airlines</td>\n",
              "      <td>Online</td>\n",
              "      <td>Bronze Plan</td>\n",
              "      <td>58</td>\n",
              "      <td>SINGAPORE</td>\n",
              "      <td>60.000000</td>\n",
              "      <td>15.000000</td>\n",
              "      <td>39</td>\n",
              "      <td>1</td>\n",
              "      <td>78</td>\n",
              "      <td>19.5</td>\n",
              "    </tr>\n",
              "    <tr>\n",
              "      <th>52272</th>\n",
              "      <td>4619</td>\n",
              "      <td>C2B</td>\n",
              "      <td>Airlines</td>\n",
              "      <td>Online</td>\n",
              "      <td>Silver Plan</td>\n",
              "      <td>11</td>\n",
              "      <td>SINGAPORE</td>\n",
              "      <td>29.827737</td>\n",
              "      <td>7.461934</td>\n",
              "      <td>54</td>\n",
              "      <td>1</td>\n",
              "      <td>108</td>\n",
              "      <td>27.0</td>\n",
              "    </tr>\n",
              "    <tr>\n",
              "      <th>52286</th>\n",
              "      <td>4595</td>\n",
              "      <td>C2B</td>\n",
              "      <td>Airlines</td>\n",
              "      <td>Online</td>\n",
              "      <td>Bronze Plan</td>\n",
              "      <td>20</td>\n",
              "      <td>SINGAPORE</td>\n",
              "      <td>20.621051</td>\n",
              "      <td>5.159051</td>\n",
              "      <td>28</td>\n",
              "      <td>1</td>\n",
              "      <td>56</td>\n",
              "      <td>14.0</td>\n",
              "    </tr>\n",
              "    <tr>\n",
              "      <th>52288</th>\n",
              "      <td>8192</td>\n",
              "      <td>C2B</td>\n",
              "      <td>Airlines</td>\n",
              "      <td>Online</td>\n",
              "      <td>Silver Plan</td>\n",
              "      <td>13</td>\n",
              "      <td>SINGAPORE</td>\n",
              "      <td>53.484565</td>\n",
              "      <td>13.376141</td>\n",
              "      <td>25</td>\n",
              "      <td>1</td>\n",
              "      <td>50</td>\n",
              "      <td>12.5</td>\n",
              "    </tr>\n",
              "    <tr>\n",
              "      <th>52305</th>\n",
              "      <td>5370</td>\n",
              "      <td>C2B</td>\n",
              "      <td>Airlines</td>\n",
              "      <td>Online</td>\n",
              "      <td>Annual Gold Plan</td>\n",
              "      <td>365</td>\n",
              "      <td>SINGAPORE</td>\n",
              "      <td>444.750593</td>\n",
              "      <td>111.185800</td>\n",
              "      <td>40</td>\n",
              "      <td>1</td>\n",
              "      <td>80</td>\n",
              "      <td>20.0</td>\n",
              "    </tr>\n",
              "  </tbody>\n",
              "</table>\n",
              "<p>5306 rows × 13 columns</p>\n",
              "</div>"
            ],
            "text/plain": [
              "         ID Agency Agency Type Distribution Channel  ... Age  Claim age2  age3\n",
              "9      8054    C2B    Airlines               Online  ...  28      1   56  14.0\n",
              "11     8195    C2B    Airlines               Online  ...  31      1   62  15.5\n",
              "14     2165    C2B    Airlines               Online  ...  66      1  132  33.0\n",
              "61     5013    C2B    Airlines               Online  ...  50      1  100  25.0\n",
              "65     4313    C2B    Airlines               Online  ...  61      1  122  30.5\n",
              "...     ...    ...         ...                  ...  ...  ..    ...  ...   ...\n",
              "52269  8798    C2B    Airlines               Online  ...  39      1   78  19.5\n",
              "52272  4619    C2B    Airlines               Online  ...  54      1  108  27.0\n",
              "52286  4595    C2B    Airlines               Online  ...  28      1   56  14.0\n",
              "52288  8192    C2B    Airlines               Online  ...  25      1   50  12.5\n",
              "52305  5370    C2B    Airlines               Online  ...  40      1   80  20.0\n",
              "\n",
              "[5306 rows x 13 columns]"
            ]
          },
          "metadata": {
            "tags": []
          },
          "execution_count": 43
        }
      ]
    },
    {
      "cell_type": "code",
      "metadata": {
        "id": "oRzaDIM2G5xH",
        "colab_type": "code",
        "outputId": "72fec988-5b8c-410c-e257-0605c50c33bf",
        "colab": {
          "base_uri": "https://localhost:8080/",
          "height": 304
        }
      },
      "source": [
        "data[data[\"Destination\"].isin([\"SINGAPORE\"]) & data[\"Claim\"].isin([1])].plot(kind = \"bar\")"
      ],
      "execution_count": 0,
      "outputs": [
        {
          "output_type": "execute_result",
          "data": {
            "text/plain": [
              "<matplotlib.axes._subplots.AxesSubplot at 0x7f89e19f6be0>"
            ]
          },
          "metadata": {
            "tags": []
          },
          "execution_count": 44
        },
        {
          "output_type": "display_data",
          "data": {
            "image/png": "[encoded data removed]",
            "text/plain": [
              "<Figure size 432x288 with 1 Axes>"
            ]
          },
          "metadata": {
            "tags": []
          }
        }
      ]
    },
    {
      "cell_type": "code",
      "metadata": {
        "id": "n-8fvR4FHPHl",
        "colab_type": "code",
        "colab": {}
      },
      "source": [
        ""
      ],
      "execution_count": 0,
      "outputs": []
    }
  ]
}